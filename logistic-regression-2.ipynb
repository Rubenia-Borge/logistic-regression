{
 "cells": [
  {
   "cell_type": "code",
   "execution_count": 1,
   "id": "cb4e06b6",
   "metadata": {
    "_cell_guid": "b1076dfc-b9ad-4769-8c92-a6c4dae69d19",
    "_uuid": "8f2839f25d086af736a60e9eeb907d3b93b6e0e5",
    "execution": {
     "iopub.execute_input": "2022-09-09T00:27:44.914830Z",
     "iopub.status.busy": "2022-09-09T00:27:44.914071Z",
     "iopub.status.idle": "2022-09-09T00:27:44.926325Z",
     "shell.execute_reply": "2022-09-09T00:27:44.925471Z"
    },
    "papermill": {
     "duration": 0.02177,
     "end_time": "2022-09-09T00:27:44.928553",
     "exception": false,
     "start_time": "2022-09-09T00:27:44.906783",
     "status": "completed"
    },
    "tags": []
   },
   "outputs": [],
   "source": [
    "# This Python 3 environment comes with many helpful analytics libraries installed\n",
    "# It is defined by the kaggle/python Docker image: https://github.com/kaggle/docker-python\n",
    "# For example, here's several helpful packages to load\n",
    "\n",
    "import numpy as np # linear algebra\n",
    "import pandas as pd # data processing, CSV file I/O (e.g. pd.read_csv)\n",
    "\n",
    "# Input data files are available in the read-only \"../input/\" directory\n",
    "# For example, running this (by clicking run or pressing Shift+Enter) will list all files under the input directory\n",
    "\n",
    "import os\n",
    "for dirname, _, filenames in os.walk('/kaggle/input'):\n",
    "    for filename in filenames:\n",
    "        print(os.path.join(dirname, filename))\n",
    "\n",
    "# You can write up to 20GB to the current directory (/kaggle/working/) that gets preserved as output when you create a version using \"Save & Run All\" \n",
    "# You can also write temporary files to /kaggle/temp/, but they won't be saved outside of the current session"
   ]
  },
  {
   "cell_type": "code",
   "execution_count": 2,
   "id": "881aa9d1",
   "metadata": {
    "execution": {
     "iopub.execute_input": "2022-09-09T00:27:44.939725Z",
     "iopub.status.busy": "2022-09-09T00:27:44.939007Z",
     "iopub.status.idle": "2022-09-09T00:27:46.051255Z",
     "shell.execute_reply": "2022-09-09T00:27:46.050040Z"
    },
    "papermill": {
     "duration": 1.121008,
     "end_time": "2022-09-09T00:27:46.054288",
     "exception": false,
     "start_time": "2022-09-09T00:27:44.933280",
     "status": "completed"
    },
    "tags": []
   },
   "outputs": [],
   "source": [
    "import matplotlib.pyplot as plt\n",
    "import numpy as np\n",
    "from sklearn.linear_model import LogisticRegression\n",
    "from sklearn.metrics import classification_report, confusion_matrix"
   ]
  },
  {
   "cell_type": "code",
   "execution_count": 3,
   "id": "983b5a3e",
   "metadata": {
    "execution": {
     "iopub.execute_input": "2022-09-09T00:27:46.067314Z",
     "iopub.status.busy": "2022-09-09T00:27:46.066832Z",
     "iopub.status.idle": "2022-09-09T00:27:46.071830Z",
     "shell.execute_reply": "2022-09-09T00:27:46.071054Z"
    },
    "papermill": {
     "duration": 0.012968,
     "end_time": "2022-09-09T00:27:46.073817",
     "exception": false,
     "start_time": "2022-09-09T00:27:46.060849",
     "status": "completed"
    },
    "tags": []
   },
   "outputs": [],
   "source": [
    "x = np.arange(10).reshape(-1, 1)\n",
    "y = np.array([0, 0, 0, 0, 1, 1, 1, 1, 1, 1])"
   ]
  },
  {
   "cell_type": "code",
   "execution_count": 4,
   "id": "329d235d",
   "metadata": {
    "execution": {
     "iopub.execute_input": "2022-09-09T00:27:46.084751Z",
     "iopub.status.busy": "2022-09-09T00:27:46.084054Z",
     "iopub.status.idle": "2022-09-09T00:27:46.094075Z",
     "shell.execute_reply": "2022-09-09T00:27:46.093036Z"
    },
    "papermill": {
     "duration": 0.018254,
     "end_time": "2022-09-09T00:27:46.096708",
     "exception": false,
     "start_time": "2022-09-09T00:27:46.078454",
     "status": "completed"
    },
    "tags": []
   },
   "outputs": [
    {
     "data": {
      "text/plain": [
       "array([[0],\n",
       "       [1],\n",
       "       [2],\n",
       "       [3],\n",
       "       [4],\n",
       "       [5],\n",
       "       [6],\n",
       "       [7],\n",
       "       [8],\n",
       "       [9]])"
      ]
     },
     "execution_count": 4,
     "metadata": {},
     "output_type": "execute_result"
    }
   ],
   "source": [
    "x"
   ]
  },
  {
   "cell_type": "code",
   "execution_count": 5,
   "id": "4019783a",
   "metadata": {
    "execution": {
     "iopub.execute_input": "2022-09-09T00:27:46.108302Z",
     "iopub.status.busy": "2022-09-09T00:27:46.107549Z",
     "iopub.status.idle": "2022-09-09T00:27:46.112510Z",
     "shell.execute_reply": "2022-09-09T00:27:46.111714Z"
    },
    "papermill": {
     "duration": 0.013221,
     "end_time": "2022-09-09T00:27:46.114698",
     "exception": false,
     "start_time": "2022-09-09T00:27:46.101477",
     "status": "completed"
    },
    "tags": []
   },
   "outputs": [],
   "source": [
    "model = LogisticRegression(solver='liblinear', random_state=0)"
   ]
  },
  {
   "cell_type": "code",
   "execution_count": 6,
   "id": "070a22cc",
   "metadata": {
    "execution": {
     "iopub.execute_input": "2022-09-09T00:27:46.125607Z",
     "iopub.status.busy": "2022-09-09T00:27:46.124904Z",
     "iopub.status.idle": "2022-09-09T00:27:46.134519Z",
     "shell.execute_reply": "2022-09-09T00:27:46.133645Z"
    },
    "papermill": {
     "duration": 0.017372,
     "end_time": "2022-09-09T00:27:46.136683",
     "exception": false,
     "start_time": "2022-09-09T00:27:46.119311",
     "status": "completed"
    },
    "tags": []
   },
   "outputs": [
    {
     "data": {
      "text/plain": [
       "LogisticRegression(random_state=0, solver='liblinear')"
      ]
     },
     "execution_count": 6,
     "metadata": {},
     "output_type": "execute_result"
    }
   ],
   "source": [
    "model.fit(x, y)"
   ]
  },
  {
   "cell_type": "code",
   "execution_count": 7,
   "id": "d4780455",
   "metadata": {
    "execution": {
     "iopub.execute_input": "2022-09-09T00:27:46.147969Z",
     "iopub.status.busy": "2022-09-09T00:27:46.147280Z",
     "iopub.status.idle": "2022-09-09T00:27:46.153288Z",
     "shell.execute_reply": "2022-09-09T00:27:46.152453Z"
    },
    "papermill": {
     "duration": 0.014205,
     "end_time": "2022-09-09T00:27:46.155497",
     "exception": false,
     "start_time": "2022-09-09T00:27:46.141292",
     "status": "completed"
    },
    "tags": []
   },
   "outputs": [],
   "source": [
    "model = LogisticRegression(solver='liblinear', random_state=0).fit(x, y)"
   ]
  },
  {
   "cell_type": "code",
   "execution_count": 8,
   "id": "4812adc8",
   "metadata": {
    "execution": {
     "iopub.execute_input": "2022-09-09T00:27:46.167536Z",
     "iopub.status.busy": "2022-09-09T00:27:46.166259Z",
     "iopub.status.idle": "2022-09-09T00:27:46.172606Z",
     "shell.execute_reply": "2022-09-09T00:27:46.171860Z"
    },
    "papermill": {
     "duration": 0.015026,
     "end_time": "2022-09-09T00:27:46.175299",
     "exception": false,
     "start_time": "2022-09-09T00:27:46.160273",
     "status": "completed"
    },
    "tags": []
   },
   "outputs": [
    {
     "data": {
      "text/plain": [
       "array([0, 1])"
      ]
     },
     "execution_count": 8,
     "metadata": {},
     "output_type": "execute_result"
    }
   ],
   "source": [
    "model.classes_"
   ]
  },
  {
   "cell_type": "code",
   "execution_count": 9,
   "id": "4bfe0a7e",
   "metadata": {
    "execution": {
     "iopub.execute_input": "2022-09-09T00:27:46.189736Z",
     "iopub.status.busy": "2022-09-09T00:27:46.188972Z",
     "iopub.status.idle": "2022-09-09T00:27:46.196183Z",
     "shell.execute_reply": "2022-09-09T00:27:46.195371Z"
    },
    "papermill": {
     "duration": 0.017008,
     "end_time": "2022-09-09T00:27:46.199259",
     "exception": false,
     "start_time": "2022-09-09T00:27:46.182251",
     "status": "completed"
    },
    "tags": []
   },
   "outputs": [
    {
     "data": {
      "text/plain": [
       "array([-1.04608067])"
      ]
     },
     "execution_count": 9,
     "metadata": {},
     "output_type": "execute_result"
    }
   ],
   "source": [
    "model.intercept_"
   ]
  },
  {
   "cell_type": "code",
   "execution_count": 10,
   "id": "8d1762a7",
   "metadata": {
    "execution": {
     "iopub.execute_input": "2022-09-09T00:27:46.211546Z",
     "iopub.status.busy": "2022-09-09T00:27:46.210856Z",
     "iopub.status.idle": "2022-09-09T00:27:46.218144Z",
     "shell.execute_reply": "2022-09-09T00:27:46.217337Z"
    },
    "papermill": {
     "duration": 0.016151,
     "end_time": "2022-09-09T00:27:46.220436",
     "exception": false,
     "start_time": "2022-09-09T00:27:46.204285",
     "status": "completed"
    },
    "tags": []
   },
   "outputs": [
    {
     "data": {
      "text/plain": [
       "array([[0.51491375]])"
      ]
     },
     "execution_count": 10,
     "metadata": {},
     "output_type": "execute_result"
    }
   ],
   "source": [
    "model.coef_"
   ]
  },
  {
   "cell_type": "code",
   "execution_count": 11,
   "id": "e7eda130",
   "metadata": {
    "execution": {
     "iopub.execute_input": "2022-09-09T00:27:46.234068Z",
     "iopub.status.busy": "2022-09-09T00:27:46.232848Z",
     "iopub.status.idle": "2022-09-09T00:27:46.241294Z",
     "shell.execute_reply": "2022-09-09T00:27:46.240514Z"
    },
    "papermill": {
     "duration": 0.017129,
     "end_time": "2022-09-09T00:27:46.243253",
     "exception": false,
     "start_time": "2022-09-09T00:27:46.226124",
     "status": "completed"
    },
    "tags": []
   },
   "outputs": [
    {
     "data": {
      "text/plain": [
       "array([[0.74002157, 0.25997843],\n",
       "       [0.62975524, 0.37024476],\n",
       "       [0.5040632 , 0.4959368 ],\n",
       "       [0.37785549, 0.62214451],\n",
       "       [0.26628093, 0.73371907],\n",
       "       [0.17821501, 0.82178499],\n",
       "       [0.11472079, 0.88527921],\n",
       "       [0.07186982, 0.92813018],\n",
       "       [0.04422513, 0.95577487],\n",
       "       [0.02690569, 0.97309431]])"
      ]
     },
     "execution_count": 11,
     "metadata": {},
     "output_type": "execute_result"
    }
   ],
   "source": [
    "model.predict_proba(x)"
   ]
  },
  {
   "cell_type": "code",
   "execution_count": 12,
   "id": "180d755c",
   "metadata": {
    "execution": {
     "iopub.execute_input": "2022-09-09T00:27:46.254972Z",
     "iopub.status.busy": "2022-09-09T00:27:46.254373Z",
     "iopub.status.idle": "2022-09-09T00:27:46.260872Z",
     "shell.execute_reply": "2022-09-09T00:27:46.259986Z"
    },
    "papermill": {
     "duration": 0.014775,
     "end_time": "2022-09-09T00:27:46.263105",
     "exception": false,
     "start_time": "2022-09-09T00:27:46.248330",
     "status": "completed"
    },
    "tags": []
   },
   "outputs": [
    {
     "data": {
      "text/plain": [
       "array([0, 0, 0, 1, 1, 1, 1, 1, 1, 1])"
      ]
     },
     "execution_count": 12,
     "metadata": {},
     "output_type": "execute_result"
    }
   ],
   "source": [
    "model.predict(x)"
   ]
  },
  {
   "cell_type": "code",
   "execution_count": 13,
   "id": "fa475f95",
   "metadata": {
    "execution": {
     "iopub.execute_input": "2022-09-09T00:27:46.275257Z",
     "iopub.status.busy": "2022-09-09T00:27:46.274247Z",
     "iopub.status.idle": "2022-09-09T00:27:46.281775Z",
     "shell.execute_reply": "2022-09-09T00:27:46.280960Z"
    },
    "papermill": {
     "duration": 0.015697,
     "end_time": "2022-09-09T00:27:46.283898",
     "exception": false,
     "start_time": "2022-09-09T00:27:46.268201",
     "status": "completed"
    },
    "tags": []
   },
   "outputs": [
    {
     "data": {
      "text/plain": [
       "0.9"
      ]
     },
     "execution_count": 13,
     "metadata": {},
     "output_type": "execute_result"
    }
   ],
   "source": [
    "model.score(x, y)"
   ]
  },
  {
   "cell_type": "code",
   "execution_count": 14,
   "id": "413bf79c",
   "metadata": {
    "execution": {
     "iopub.execute_input": "2022-09-09T00:27:46.296011Z",
     "iopub.status.busy": "2022-09-09T00:27:46.295209Z",
     "iopub.status.idle": "2022-09-09T00:27:46.305857Z",
     "shell.execute_reply": "2022-09-09T00:27:46.304922Z"
    },
    "papermill": {
     "duration": 0.018891,
     "end_time": "2022-09-09T00:27:46.308018",
     "exception": false,
     "start_time": "2022-09-09T00:27:46.289127",
     "status": "completed"
    },
    "tags": []
   },
   "outputs": [
    {
     "data": {
      "text/plain": [
       "array([[3, 1],\n",
       "       [0, 6]])"
      ]
     },
     "execution_count": 14,
     "metadata": {},
     "output_type": "execute_result"
    }
   ],
   "source": [
    "confusion_matrix(y, model.predict(x))"
   ]
  },
  {
   "cell_type": "code",
   "execution_count": 15,
   "id": "dac274ef",
   "metadata": {
    "execution": {
     "iopub.execute_input": "2022-09-09T00:27:46.320383Z",
     "iopub.status.busy": "2022-09-09T00:27:46.319442Z",
     "iopub.status.idle": "2022-09-09T00:27:46.483902Z",
     "shell.execute_reply": "2022-09-09T00:27:46.482009Z"
    },
    "papermill": {
     "duration": 0.173698,
     "end_time": "2022-09-09T00:27:46.486971",
     "exception": false,
     "start_time": "2022-09-09T00:27:46.313273",
     "status": "completed"
    },
    "tags": []
   },
   "outputs": [
    {
     "data": {
      "image/png": "[encoded data removed]",
      "text/plain": [
       "<Figure size 576x576 with 1 Axes>"
      ]
     },
     "metadata": {
      "needs_background": "light"
     },
     "output_type": "display_data"
    }
   ],
   "source": [
    "cm = confusion_matrix(y, model.predict(x))\n",
    "\n",
    "fig, ax = plt.subplots(figsize=(8, 8))\n",
    "ax.imshow(cm)\n",
    "ax.grid(False)\n",
    "ax.xaxis.set(ticks=(0, 1), ticklabels=('Predicted 0s', 'Predicted 1s'))\n",
    "ax.yaxis.set(ticks=(0, 1), ticklabels=('Actual 0s', 'Actual 1s'))\n",
    "ax.set_ylim(1.5, -0.5)\n",
    "for i in range(2):\n",
    "    for j in range(2):\n",
    "        ax.text(j, i, cm[i, j], ha='center', va='center', color='red')\n",
    "plt.show()"
   ]
  },
  {
   "cell_type": "code",
   "execution_count": 16,
   "id": "00c39ff1",
   "metadata": {
    "execution": {
     "iopub.execute_input": "2022-09-09T00:27:46.506451Z",
     "iopub.status.busy": "2022-09-09T00:27:46.505904Z",
     "iopub.status.idle": "2022-09-09T00:27:46.521971Z",
     "shell.execute_reply": "2022-09-09T00:27:46.520751Z"
    },
    "papermill": {
     "duration": 0.02982,
     "end_time": "2022-09-09T00:27:46.525636",
     "exception": false,
     "start_time": "2022-09-09T00:27:46.495816",
     "status": "completed"
    },
    "tags": []
   },
   "outputs": [
    {
     "name": "stdout",
     "output_type": "stream",
     "text": [
      "              precision    recall  f1-score   support\n",
      "\n",
      "           0       1.00      0.75      0.86         4\n",
      "           1       0.86      1.00      0.92         6\n",
      "\n",
      "    accuracy                           0.90        10\n",
      "   macro avg       0.93      0.88      0.89        10\n",
      "weighted avg       0.91      0.90      0.90        10\n",
      "\n"
     ]
    }
   ],
   "source": [
    "print(classification_report(y, model.predict(x)))"
   ]
  }
 ],
 "metadata": {
  "kernelspec": {
   "display_name": "Python 3",
   "language": "python",
   "name": "python3"
  },
  "language_info": {
   "codemirror_mode": {
    "name": "ipython",
    "version": 3
   },
   "file_extension": ".py",
   "mimetype": "text/x-python",
   "name": "python",
   "nbconvert_exporter": "python",
   "pygments_lexer": "ipython3",
   "version": "3.7.12"
  },
  "papermill": {
   "default_parameters": {},
   "duration": 10.962581,
   "end_time": "2022-09-09T00:27:47.253055",
   "environment_variables": {},
   "exception": null,
   "input_path": "__notebook__.ipynb",
   "output_path": "__notebook__.ipynb",
   "parameters": {},
   "start_time": "2022-09-09T00:27:36.290474",
   "version": "2.3.4"
  }
 },
 "nbformat": 4,
 "nbformat_minor": 5
}
